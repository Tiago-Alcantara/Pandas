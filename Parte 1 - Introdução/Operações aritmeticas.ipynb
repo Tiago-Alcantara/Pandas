{
 "cells": [
  {
   "attachments": {},
   "cell_type": "markdown",
   "metadata": {},
   "source": [
    "# Operaçoes aritméticas\n",
    "### Calcular o preço/ação de uma ação"
   ]
  },
  {
   "cell_type": "code",
   "execution_count": 5,
   "metadata": {},
   "outputs": [],
   "source": [
    "import pandas as pd\n",
    "import numpy as np"
   ]
  },
  {
   "cell_type": "code",
   "execution_count": 6,
   "metadata": {},
   "outputs": [],
   "source": [
    "#Função que cria series\n",
    "\n",
    "def gerador_serie_historica(valor_inicial,volatilidade,periodos,dia_inicial,frequencia = \"M\"):\n",
    "   \n",
    "   vetor = [valor_inicial]\n",
    "   for i in range(periodos -1):\n",
    "        preco = vetor[i] * (1 + np.random.normal(0,volatilidade))\n",
    "\n",
    "        vetor.append(preco)\n",
    "\n",
    "   serie = pd.Series(vetor,index = pd.date_range(dia_inicial,periods = periodos,\n",
    "                                                  freq = frequencia ))\n",
    "   \n",
    "   return serie"
   ]
  },
  {
   "cell_type": "code",
   "execution_count": 12,
   "metadata": {},
   "outputs": [
    {
     "name": "stdout",
     "output_type": "stream",
     "text": [
      "2022-01-31    5.000000\n",
      "2022-02-28    4.940200\n",
      "2022-03-31    4.997721\n",
      "2022-04-30    4.987836\n",
      "2022-05-31    4.988781\n",
      "Freq: M, dtype: float64\n",
      "2022-01-31    20.000000\n",
      "2022-02-28    19.039933\n",
      "2022-03-31    19.105325\n",
      "2022-04-30    17.933750\n",
      "2022-05-31    18.029548\n",
      "Freq: M, dtype: float64\n"
     ]
    }
   ],
   "source": [
    "serie_euro = gerador_serie_historica(5,0.01,5,\"2022-01-01\")\n",
    "serie_cotacoes = gerador_serie_historica(20,0.05,5,\"2022-01-01\")\n",
    "\n",
    "print(serie_euro)\n",
    "\n",
    "print(serie_cotacoes)"
   ]
  },
  {
   "cell_type": "code",
   "execution_count": 13,
   "metadata": {},
   "outputs": [
    {
     "data": {
      "text/plain": [
       "2022-01-31    4.000000\n",
       "2022-02-28    3.854081\n",
       "2022-03-31    3.822808\n",
       "2022-04-30    3.595497\n",
       "2022-05-31    3.614018\n",
       "Freq: M, dtype: float64"
      ]
     },
     "execution_count": 13,
     "metadata": {},
     "output_type": "execute_result"
    }
   ],
   "source": [
    "#as operações aritméticas são feitas através dos índices! \n",
    "\n",
    "serie_cotacoes_em_euro = serie_cotacoes/serie_euro\n",
    "\n",
    "serie_cotacoes_em_euro"
   ]
  },
  {
   "cell_type": "code",
   "execution_count": 15,
   "metadata": {},
   "outputs": [
    {
     "data": {
      "text/html": [
       "<div>\n",
       "<style scoped>\n",
       "    .dataframe tbody tr th:only-of-type {\n",
       "        vertical-align: middle;\n",
       "    }\n",
       "\n",
       "    .dataframe tbody tr th {\n",
       "        vertical-align: top;\n",
       "    }\n",
       "\n",
       "    .dataframe thead th {\n",
       "        text-align: right;\n",
       "    }\n",
       "</style>\n",
       "<table border=\"1\" class=\"dataframe\">\n",
       "  <thead>\n",
       "    <tr style=\"text-align: right;\">\n",
       "      <th></th>\n",
       "      <th>Cotação</th>\n",
       "      <th>Lucro por ação</th>\n",
       "    </tr>\n",
       "  </thead>\n",
       "  <tbody>\n",
       "    <tr>\n",
       "      <th>2022-01-31</th>\n",
       "      <td>20.000000</td>\n",
       "      <td>2.000000</td>\n",
       "    </tr>\n",
       "    <tr>\n",
       "      <th>2022-02-28</th>\n",
       "      <td>20.380021</td>\n",
       "      <td>3.072849</td>\n",
       "    </tr>\n",
       "    <tr>\n",
       "      <th>2022-03-31</th>\n",
       "      <td>19.366705</td>\n",
       "      <td>3.240132</td>\n",
       "    </tr>\n",
       "    <tr>\n",
       "      <th>2022-04-30</th>\n",
       "      <td>19.489401</td>\n",
       "      <td>2.529596</td>\n",
       "    </tr>\n",
       "    <tr>\n",
       "      <th>2022-05-31</th>\n",
       "      <td>17.888260</td>\n",
       "      <td>-0.263643</td>\n",
       "    </tr>\n",
       "  </tbody>\n",
       "</table>\n",
       "</div>"
      ],
      "text/plain": [
       "              Cotação  Lucro por ação\n",
       "2022-01-31  20.000000        2.000000\n",
       "2022-02-28  20.380021        3.072849\n",
       "2022-03-31  19.366705        3.240132\n",
       "2022-04-30  19.489401        2.529596\n",
       "2022-05-31  17.888260       -0.263643"
      ]
     },
     "execution_count": 15,
     "metadata": {},
     "output_type": "execute_result"
    }
   ],
   "source": [
    "\n",
    "serie_lucro = gerador_serie_historica(2,0.5,5,\"2022-01-01\")\n",
    "\n",
    "serie_cotacoes = gerador_serie_historica(20,0.05,5,\"2022-01-01\")\n",
    "\n",
    "\n",
    "df = pd.DataFrame({\"Cotação\": serie_cotacoes,\n",
    "                    \"Lucro por ação\": serie_lucro})\n",
    "\n",
    "df"
   ]
  },
  {
   "cell_type": "code",
   "execution_count": 16,
   "metadata": {},
   "outputs": [
    {
     "data": {
      "text/html": [
       "<div>\n",
       "<style scoped>\n",
       "    .dataframe tbody tr th:only-of-type {\n",
       "        vertical-align: middle;\n",
       "    }\n",
       "\n",
       "    .dataframe tbody tr th {\n",
       "        vertical-align: top;\n",
       "    }\n",
       "\n",
       "    .dataframe thead th {\n",
       "        text-align: right;\n",
       "    }\n",
       "</style>\n",
       "<table border=\"1\" class=\"dataframe\">\n",
       "  <thead>\n",
       "    <tr style=\"text-align: right;\">\n",
       "      <th></th>\n",
       "      <th>Cotação</th>\n",
       "      <th>Lucro por ação</th>\n",
       "      <th>PL</th>\n",
       "    </tr>\n",
       "  </thead>\n",
       "  <tbody>\n",
       "    <tr>\n",
       "      <th>2022-01-31</th>\n",
       "      <td>20.000000</td>\n",
       "      <td>2.000000</td>\n",
       "      <td>10.000000</td>\n",
       "    </tr>\n",
       "    <tr>\n",
       "      <th>2022-02-28</th>\n",
       "      <td>20.380021</td>\n",
       "      <td>3.072849</td>\n",
       "      <td>6.632289</td>\n",
       "    </tr>\n",
       "    <tr>\n",
       "      <th>2022-03-31</th>\n",
       "      <td>19.366705</td>\n",
       "      <td>3.240132</td>\n",
       "      <td>5.977134</td>\n",
       "    </tr>\n",
       "    <tr>\n",
       "      <th>2022-04-30</th>\n",
       "      <td>19.489401</td>\n",
       "      <td>2.529596</td>\n",
       "      <td>7.704552</td>\n",
       "    </tr>\n",
       "    <tr>\n",
       "      <th>2022-05-31</th>\n",
       "      <td>17.888260</td>\n",
       "      <td>-0.263643</td>\n",
       "      <td>-67.850199</td>\n",
       "    </tr>\n",
       "  </tbody>\n",
       "</table>\n",
       "</div>"
      ],
      "text/plain": [
       "              Cotação  Lucro por ação         PL\n",
       "2022-01-31  20.000000        2.000000  10.000000\n",
       "2022-02-28  20.380021        3.072849   6.632289\n",
       "2022-03-31  19.366705        3.240132   5.977134\n",
       "2022-04-30  19.489401        2.529596   7.704552\n",
       "2022-05-31  17.888260       -0.263643 -67.850199"
      ]
     },
     "execution_count": 16,
     "metadata": {},
     "output_type": "execute_result"
    }
   ],
   "source": [
    "#Criando coluna P/L\n",
    "\n",
    "df[\"PL\"] = df[\"Cotação\"]/df[\"Lucro por ação\"]\n",
    "\n",
    "df"
   ]
  },
  {
   "cell_type": "code",
   "execution_count": 17,
   "metadata": {},
   "outputs": [
    {
     "name": "stdout",
     "output_type": "stream",
     "text": [
      "2022-01-31    22.000000\n",
      "2022-02-28    23.452870\n",
      "2022-03-31    22.606838\n",
      "2022-04-30    22.018997\n",
      "2022-05-31    17.624616\n",
      "Freq: M, dtype: float64\n",
      "2022-01-31    18.000000\n",
      "2022-02-28    17.307172\n",
      "2022-03-31    16.126573\n",
      "2022-04-30    16.959806\n",
      "2022-05-31    18.151903\n",
      "Freq: M, dtype: float64\n",
      "2022-01-31      400.000000\n",
      "2022-02-28    10543.570235\n",
      "2022-03-31    14798.955500\n",
      "2022-04-30     1830.916770\n",
      "2022-05-31        0.467486\n",
      "Freq: M, dtype: float64\n"
     ]
    }
   ],
   "source": [
    "#Demonstação de que se pode fazer qualquer operação\n",
    "print(df['Cotação'] + df['Lucro por ação'])\n",
    "print(df['Cotação'] - df['Lucro por ação'])\n",
    "print(df['Cotação'] ** df['Lucro por ação'])"
   ]
  },
  {
   "cell_type": "code",
   "execution_count": 18,
   "metadata": {},
   "outputs": [
    {
     "name": "stdout",
     "output_type": "stream",
     "text": [
      "2022-03-31    20000.000000\n",
      "2022-06-30    92514.733462\n",
      "2022-09-30    38744.586417\n",
      "2022-12-31    99643.366508\n",
      "Freq: Q-DEC, dtype: float64\n"
     ]
    },
    {
     "data": {
      "text/plain": [
       "250902.68638732424"
      ]
     },
     "execution_count": 18,
     "metadata": {},
     "output_type": "execute_result"
    }
   ],
   "source": [
    "#Operações dentro de uma mesma coluna\n",
    "\n",
    "#Somar dados de uma coluna\n",
    "\n",
    "serie_lucro_trimestral = gerador_serie_historica(20000,2,4,\"2022-01-01\",frequencia= \"Q\")\n",
    "\n",
    "print(serie_lucro_trimestral)\n",
    "\n",
    "lucro_anual = serie_lucro_trimestral.sum()\n",
    "lucro_anual"
   ]
  },
  {
   "cell_type": "code",
   "execution_count": 19,
   "metadata": {},
   "outputs": [
    {
     "name": "stdout",
     "output_type": "stream",
     "text": [
      "2022-03-31    20000.000000\n",
      "2022-06-30    13887.799114\n",
      "2022-09-30    34628.275001\n",
      "2022-12-31    34805.372766\n",
      "Freq: Q-DEC, dtype: float64\n",
      "13887.799114093636\n"
     ]
    },
    {
     "data": {
      "text/plain": [
       "34805.372765919274"
      ]
     },
     "execution_count": 19,
     "metadata": {},
     "output_type": "execute_result"
    }
   ],
   "source": [
    "#Maior e menor dado de lucro no trimestre\n",
    "\n",
    "serie_lucro_trimestral = gerador_serie_historica(20000,2,4,\"2022-01-01\",frequencia= \"Q\")\n",
    "\n",
    "print(serie_lucro_trimestral)\n",
    "\n",
    "lucro_max = serie_lucro_trimestral.max()\n",
    "lucro_min = serie_lucro_trimestral.min()\n",
    "\n",
    "print(lucro_min)\n",
    "\n",
    "lucro_max\n"
   ]
  },
  {
   "attachments": {},
   "cell_type": "markdown",
   "metadata": {},
   "source": [
    "# Exercícios \n",
    "\n",
    "No dataframe base trabalhado em todas as aulas:\n",
    "\n",
    "* Exercício 50: Crie uma nova coluna chamada \"lucro_por_acao\" e calcule o lucro por ação baseado nas informações de PL e preço. Obs: LPA = P/Indicador(PL)\n",
    "* Exercício 51: Assuma a cotação do dólar como 5.25 e crie a coluna de cotações dolarizadas na tabela.\n",
    "* Exercício 52: Encontre qual volume total negociado por todas as ações. \n",
    "* Exercício 53: Selecione as ações com maior e menor Lucro por ação do dataframe. Dica: use métodos de seleção ensinados na aula passada! "
   ]
  },
  {
   "cell_type": "code",
   "execution_count": 20,
   "metadata": {},
   "outputs": [
    {
     "data": {
      "text/html": [
       "<div>\n",
       "<style scoped>\n",
       "    .dataframe tbody tr th:only-of-type {\n",
       "        vertical-align: middle;\n",
       "    }\n",
       "\n",
       "    .dataframe tbody tr th {\n",
       "        vertical-align: top;\n",
       "    }\n",
       "\n",
       "    .dataframe thead th {\n",
       "        text-align: right;\n",
       "    }\n",
       "</style>\n",
       "<table border=\"1\" class=\"dataframe\">\n",
       "  <thead>\n",
       "    <tr style=\"text-align: right;\">\n",
       "      <th></th>\n",
       "      <th>Preços</th>\n",
       "      <th>Nomes</th>\n",
       "      <th>Preco sobre lucro</th>\n",
       "      <th>Volume</th>\n",
       "    </tr>\n",
       "    <tr>\n",
       "      <th>Tickers</th>\n",
       "      <th></th>\n",
       "      <th></th>\n",
       "      <th></th>\n",
       "      <th></th>\n",
       "    </tr>\n",
       "  </thead>\n",
       "  <tbody>\n",
       "    <tr>\n",
       "      <th>WEGE3</th>\n",
       "      <td>20</td>\n",
       "      <td>Weg</td>\n",
       "      <td>25</td>\n",
       "      <td>5000</td>\n",
       "    </tr>\n",
       "    <tr>\n",
       "      <th>PETR3</th>\n",
       "      <td>30</td>\n",
       "      <td>Petrobras</td>\n",
       "      <td>6</td>\n",
       "      <td>1000</td>\n",
       "    </tr>\n",
       "    <tr>\n",
       "      <th>VALE3</th>\n",
       "      <td>40</td>\n",
       "      <td>Vale</td>\n",
       "      <td>12</td>\n",
       "      <td>4000</td>\n",
       "    </tr>\n",
       "    <tr>\n",
       "      <th>PETR4</th>\n",
       "      <td>12</td>\n",
       "      <td>Petrobras</td>\n",
       "      <td>7</td>\n",
       "      <td>7000</td>\n",
       "    </tr>\n",
       "    <tr>\n",
       "      <th>LREN3</th>\n",
       "      <td>35</td>\n",
       "      <td>Lojas Renner</td>\n",
       "      <td>25</td>\n",
       "      <td>1200</td>\n",
       "    </tr>\n",
       "  </tbody>\n",
       "</table>\n",
       "</div>"
      ],
      "text/plain": [
       "         Preços         Nomes  Preco sobre lucro  Volume\n",
       "Tickers                                                 \n",
       "WEGE3        20           Weg                 25    5000\n",
       "PETR3        30     Petrobras                  6    1000\n",
       "VALE3        40          Vale                 12    4000\n",
       "PETR4        12     Petrobras                  7    7000\n",
       "LREN3        35  Lojas Renner                 25    1200"
      ]
     },
     "execution_count": 20,
     "metadata": {},
     "output_type": "execute_result"
    }
   ],
   "source": [
    "#DataFrame Base das aulas\n",
    "Carteira = {\n",
    "    \"Tickers\" : [\"WEGE3\", \"PETR3\", \"VALE3\", \"PETR4\", \"LREN3\"],\n",
    "    \"cotacoes\": [20, 30, 40, 12, 35 ],\n",
    "    \"nomes\": [\"Weg\", \"Petrobras\", \"Vale\", \"Petrobras\",\"Lojas Renner\"],\n",
    "    \"Preco sobre lucro\": [25, 6, 12, 7, 25 ],\n",
    "    \"volume\": [5000, 1000, 4000, 7000, 1200]\n",
    "}\n",
    "\n",
    "import numpy as np\n",
    "carteira_dataframe = pd.DataFrame(Carteira)\n",
    "\n",
    "carteira_dataframe = carteira_dataframe.set_index(\"Tickers\")\n",
    "\n",
    "carteira_dataframe.columns =[\"Preços\",\"Nomes\", \"Preco sobre lucro\",\"Volume\"]\n",
    "\n",
    "carteira_dataframe"
   ]
  },
  {
   "cell_type": "code",
   "execution_count": 30,
   "metadata": {},
   "outputs": [
    {
     "data": {
      "text/html": [
       "<div>\n",
       "<style scoped>\n",
       "    .dataframe tbody tr th:only-of-type {\n",
       "        vertical-align: middle;\n",
       "    }\n",
       "\n",
       "    .dataframe tbody tr th {\n",
       "        vertical-align: top;\n",
       "    }\n",
       "\n",
       "    .dataframe thead th {\n",
       "        text-align: right;\n",
       "    }\n",
       "</style>\n",
       "<table border=\"1\" class=\"dataframe\">\n",
       "  <thead>\n",
       "    <tr style=\"text-align: right;\">\n",
       "      <th></th>\n",
       "      <th>Preços</th>\n",
       "      <th>Nomes</th>\n",
       "      <th>Preco sobre lucro</th>\n",
       "      <th>Volume</th>\n",
       "      <th>Lucro por Ação</th>\n",
       "    </tr>\n",
       "    <tr>\n",
       "      <th>Tickers</th>\n",
       "      <th></th>\n",
       "      <th></th>\n",
       "      <th></th>\n",
       "      <th></th>\n",
       "      <th></th>\n",
       "    </tr>\n",
       "  </thead>\n",
       "  <tbody>\n",
       "    <tr>\n",
       "      <th>WEGE3</th>\n",
       "      <td>20</td>\n",
       "      <td>Weg</td>\n",
       "      <td>25</td>\n",
       "      <td>5000</td>\n",
       "      <td>0.800000</td>\n",
       "    </tr>\n",
       "    <tr>\n",
       "      <th>PETR3</th>\n",
       "      <td>30</td>\n",
       "      <td>Petrobras</td>\n",
       "      <td>6</td>\n",
       "      <td>1000</td>\n",
       "      <td>5.000000</td>\n",
       "    </tr>\n",
       "    <tr>\n",
       "      <th>VALE3</th>\n",
       "      <td>40</td>\n",
       "      <td>Vale</td>\n",
       "      <td>12</td>\n",
       "      <td>4000</td>\n",
       "      <td>3.333333</td>\n",
       "    </tr>\n",
       "    <tr>\n",
       "      <th>PETR4</th>\n",
       "      <td>12</td>\n",
       "      <td>Petrobras</td>\n",
       "      <td>7</td>\n",
       "      <td>7000</td>\n",
       "      <td>1.714286</td>\n",
       "    </tr>\n",
       "    <tr>\n",
       "      <th>LREN3</th>\n",
       "      <td>35</td>\n",
       "      <td>Lojas Renner</td>\n",
       "      <td>25</td>\n",
       "      <td>1200</td>\n",
       "      <td>1.400000</td>\n",
       "    </tr>\n",
       "  </tbody>\n",
       "</table>\n",
       "</div>"
      ],
      "text/plain": [
       "         Preços         Nomes  Preco sobre lucro  Volume  Lucro por Ação\n",
       "Tickers                                                                 \n",
       "WEGE3        20           Weg                 25    5000        0.800000\n",
       "PETR3        30     Petrobras                  6    1000        5.000000\n",
       "VALE3        40          Vale                 12    4000        3.333333\n",
       "PETR4        12     Petrobras                  7    7000        1.714286\n",
       "LREN3        35  Lojas Renner                 25    1200        1.400000"
      ]
     },
     "execution_count": 30,
     "metadata": {},
     "output_type": "execute_result"
    }
   ],
   "source": [
    "#50b\n",
    "lpa = carteira_dataframe[\"Preços\"]/ carteira_dataframe[\"Preco sobre lucro\"]\n",
    "\n",
    "carteira_dataframe[\"Lucro por Ação\"] = lpa\n",
    "\n",
    "carteira_dataframe"
   ]
  },
  {
   "cell_type": "code",
   "execution_count": 38,
   "metadata": {},
   "outputs": [
    {
     "data": {
      "text/html": [
       "<div>\n",
       "<style scoped>\n",
       "    .dataframe tbody tr th:only-of-type {\n",
       "        vertical-align: middle;\n",
       "    }\n",
       "\n",
       "    .dataframe tbody tr th {\n",
       "        vertical-align: top;\n",
       "    }\n",
       "\n",
       "    .dataframe thead th {\n",
       "        text-align: right;\n",
       "    }\n",
       "</style>\n",
       "<table border=\"1\" class=\"dataframe\">\n",
       "  <thead>\n",
       "    <tr style=\"text-align: right;\">\n",
       "      <th></th>\n",
       "      <th>Preços</th>\n",
       "      <th>Nomes</th>\n",
       "      <th>Preco sobre lucro</th>\n",
       "      <th>Volume</th>\n",
       "      <th>Lucro por Ação</th>\n",
       "      <th>Cotação dolarizada</th>\n",
       "    </tr>\n",
       "    <tr>\n",
       "      <th>Tickers</th>\n",
       "      <th></th>\n",
       "      <th></th>\n",
       "      <th></th>\n",
       "      <th></th>\n",
       "      <th></th>\n",
       "      <th></th>\n",
       "    </tr>\n",
       "  </thead>\n",
       "  <tbody>\n",
       "    <tr>\n",
       "      <th>WEGE3</th>\n",
       "      <td>20</td>\n",
       "      <td>Weg</td>\n",
       "      <td>25</td>\n",
       "      <td>5000</td>\n",
       "      <td>0.800000</td>\n",
       "      <td>3.809524</td>\n",
       "    </tr>\n",
       "    <tr>\n",
       "      <th>PETR3</th>\n",
       "      <td>30</td>\n",
       "      <td>Petrobras</td>\n",
       "      <td>6</td>\n",
       "      <td>1000</td>\n",
       "      <td>5.000000</td>\n",
       "      <td>5.714286</td>\n",
       "    </tr>\n",
       "    <tr>\n",
       "      <th>VALE3</th>\n",
       "      <td>40</td>\n",
       "      <td>Vale</td>\n",
       "      <td>12</td>\n",
       "      <td>4000</td>\n",
       "      <td>3.333333</td>\n",
       "      <td>7.619048</td>\n",
       "    </tr>\n",
       "    <tr>\n",
       "      <th>PETR4</th>\n",
       "      <td>12</td>\n",
       "      <td>Petrobras</td>\n",
       "      <td>7</td>\n",
       "      <td>7000</td>\n",
       "      <td>1.714286</td>\n",
       "      <td>2.285714</td>\n",
       "    </tr>\n",
       "    <tr>\n",
       "      <th>LREN3</th>\n",
       "      <td>35</td>\n",
       "      <td>Lojas Renner</td>\n",
       "      <td>25</td>\n",
       "      <td>1200</td>\n",
       "      <td>1.400000</td>\n",
       "      <td>6.666667</td>\n",
       "    </tr>\n",
       "  </tbody>\n",
       "</table>\n",
       "</div>"
      ],
      "text/plain": [
       "         Preços         Nomes  Preco sobre lucro  Volume  Lucro por Ação  \\\n",
       "Tickers                                                                    \n",
       "WEGE3        20           Weg                 25    5000        0.800000   \n",
       "PETR3        30     Petrobras                  6    1000        5.000000   \n",
       "VALE3        40          Vale                 12    4000        3.333333   \n",
       "PETR4        12     Petrobras                  7    7000        1.714286   \n",
       "LREN3        35  Lojas Renner                 25    1200        1.400000   \n",
       "\n",
       "         Cotação dolarizada  \n",
       "Tickers                      \n",
       "WEGE3              3.809524  \n",
       "PETR3              5.714286  \n",
       "VALE3              7.619048  \n",
       "PETR4              2.285714  \n",
       "LREN3              6.666667  "
      ]
     },
     "execution_count": 38,
     "metadata": {},
     "output_type": "execute_result"
    }
   ],
   "source": [
    "#* Exercício 51: Assuma a cotação do dólar como 5.25 e crie a coluna de cotações dolarizadas na tabela.\n",
    "\n",
    "dolariziada = list(map(lambda x: x/ 5.25,carteira_dataframe[\"Preços\"]))\n",
    "\n",
    "carteira_dataframe[\"Cotação dolarizada\"] = dolariziada \n",
    "carteira_dataframe"
   ]
  },
  {
   "cell_type": "code",
   "execution_count": 39,
   "metadata": {},
   "outputs": [
    {
     "name": "stdout",
     "output_type": "stream",
     "text": [
      "18200\n"
     ]
    }
   ],
   "source": [
    "# Exercício 52: Encontre qual volume total negociado por todas as ações. \n",
    "\n",
    "volume_total_acoes = carteira_dataframe[\"Volume\"].sum()\n",
    "\n",
    "print(volume_total_acoes)"
   ]
  },
  {
   "cell_type": "code",
   "execution_count": 78,
   "metadata": {},
   "outputs": [
    {
     "name": "stdout",
     "output_type": "stream",
     "text": [
      "Weg\n",
      "Petrobras\n"
     ]
    }
   ],
   "source": [
    "# Exercício 53: Selecione as ações com maior e menor Lucro por ação do dataframe. Dica: use métodos de seleção ensinados na aula passada! \n",
    "\n",
    "menor = carteira_dataframe[\"Lucro por Ação\"].min()\n",
    "maior = carteira_dataframe[\"Lucro por Ação\"].max()\n",
    "\n",
    "acao_menor = carteira_dataframe[carteira_dataframe[\"Lucro por Ação\"] == menor]\n",
    "acao_menor = acao_menor.iat[0,1]\n",
    "\n",
    "acao_maior = carteira_dataframe[carteira_dataframe[\"Lucro por Ação\"] == maior]\n",
    "acao_maior = acao_maior.iat[0,1]\n",
    "\n",
    "\n",
    "\n",
    "\n",
    "print(acao_menor)\n",
    "\n",
    "print(acao_maior)"
   ]
  }
 ],
 "metadata": {
  "kernelspec": {
   "display_name": "Python 3",
   "language": "python",
   "name": "python3"
  },
  "language_info": {
   "codemirror_mode": {
    "name": "ipython",
    "version": 3
   },
   "file_extension": ".py",
   "mimetype": "text/x-python",
   "name": "python",
   "nbconvert_exporter": "python",
   "pygments_lexer": "ipython3",
   "version": "3.10.4"
  },
  "orig_nbformat": 4
 },
 "nbformat": 4,
 "nbformat_minor": 2
}
