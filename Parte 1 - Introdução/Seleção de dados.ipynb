{
 "cells": [
  {
   "attachments": {},
   "cell_type": "markdown",
   "metadata": {},
   "source": [
    "# Seleção de dados"
   ]
  },
  {
   "cell_type": "code",
   "execution_count": 1,
   "metadata": {},
   "outputs": [],
   "source": [
    "import pandas as pd"
   ]
  },
  {
   "cell_type": "code",
   "execution_count": 2,
   "metadata": {},
   "outputs": [
    {
     "data": {
      "text/html": [
       "<div>\n",
       "<style scoped>\n",
       "    .dataframe tbody tr th:only-of-type {\n",
       "        vertical-align: middle;\n",
       "    }\n",
       "\n",
       "    .dataframe tbody tr th {\n",
       "        vertical-align: top;\n",
       "    }\n",
       "\n",
       "    .dataframe thead th {\n",
       "        text-align: right;\n",
       "    }\n",
       "</style>\n",
       "<table border=\"1\" class=\"dataframe\">\n",
       "  <thead>\n",
       "    <tr style=\"text-align: right;\">\n",
       "      <th></th>\n",
       "      <th>Moeda</th>\n",
       "      <th>Price</th>\n",
       "      <th>Derivativo</th>\n",
       "    </tr>\n",
       "  </thead>\n",
       "  <tbody>\n",
       "    <tr>\n",
       "      <th>2014-01-05</th>\n",
       "      <td>dolar/real</td>\n",
       "      <td>5.24</td>\n",
       "      <td>DOLFT3</td>\n",
       "    </tr>\n",
       "    <tr>\n",
       "      <th>2014-01-05</th>\n",
       "      <td>libra/real</td>\n",
       "      <td>4.15</td>\n",
       "      <td>LIBFT3</td>\n",
       "    </tr>\n",
       "    <tr>\n",
       "      <th>2014-01-06</th>\n",
       "      <td>dolar/real</td>\n",
       "      <td>5.26</td>\n",
       "      <td>DOLFT3</td>\n",
       "    </tr>\n",
       "    <tr>\n",
       "      <th>2014-01-06</th>\n",
       "      <td>libra/real</td>\n",
       "      <td>4.23</td>\n",
       "      <td>LIBFT3</td>\n",
       "    </tr>\n",
       "    <tr>\n",
       "      <th>2014-01-07</th>\n",
       "      <td>dolar/real</td>\n",
       "      <td>5.55</td>\n",
       "      <td>DOLFT3</td>\n",
       "    </tr>\n",
       "    <tr>\n",
       "      <th>2014-01-07</th>\n",
       "      <td>libra/real</td>\n",
       "      <td>4.02</td>\n",
       "      <td>LIBFT3</td>\n",
       "    </tr>\n",
       "    <tr>\n",
       "      <th>2014-01-08</th>\n",
       "      <td>dolar/real</td>\n",
       "      <td>5.76</td>\n",
       "      <td>DOLFT3</td>\n",
       "    </tr>\n",
       "    <tr>\n",
       "      <th>2014-01-08</th>\n",
       "      <td>libra/real</td>\n",
       "      <td>3.98</td>\n",
       "      <td>LIBFT3</td>\n",
       "    </tr>\n",
       "  </tbody>\n",
       "</table>\n",
       "</div>"
      ],
      "text/plain": [
       "                 Moeda  Price Derivativo\n",
       "2014-01-05  dolar/real   5.24     DOLFT3\n",
       "2014-01-05  libra/real   4.15     LIBFT3\n",
       "2014-01-06  dolar/real   5.26     DOLFT3\n",
       "2014-01-06  libra/real   4.23     LIBFT3\n",
       "2014-01-07  dolar/real   5.55     DOLFT3\n",
       "2014-01-07  libra/real   4.02     LIBFT3\n",
       "2014-01-08  dolar/real   5.76     DOLFT3\n",
       "2014-01-08  libra/real   3.98     LIBFT3"
      ]
     },
     "execution_count": 2,
     "metadata": {},
     "output_type": "execute_result"
    }
   ],
   "source": [
    "df_cambio = pd.DataFrame({\n",
    "    \"Moeda\": [\"dolar/real\",\"libra/real\"]*4,\n",
    "    \"Price\": [5.24, 4.15, 5.26, 4.23, 5.55, 4.02, 5.76, 3.98],\n",
    "    \"Derivativo\": list([\"DOLFT3\",\"LIBFT3\"])*4},\n",
    "    index = sorted(list(pd.date_range(\"1/5/2014\", periods = 4))*2)\n",
    ")\n",
    "\n",
    "df_cambio"
   ]
  },
  {
   "cell_type": "code",
   "execution_count": 11,
   "metadata": {},
   "outputs": [
    {
     "data": {
      "text/plain": [
       "2014-01-05    5.24\n",
       "2014-01-05    4.15\n",
       "2014-01-06    5.26\n",
       "2014-01-06    4.23\n",
       "2014-01-07    5.55\n",
       "2014-01-07    4.02\n",
       "2014-01-08    5.76\n",
       "2014-01-08    3.98\n",
       "Name: Price, dtype: float64"
      ]
     },
     "execution_count": 11,
     "metadata": {},
     "output_type": "execute_result"
    }
   ],
   "source": [
    "#ferramentas loc, iloc, at, iat\n",
    "\n",
    "#loc - Selecionar a partir dos nomes\n",
    "\n",
    "#um unico dia \n",
    "df_cambio.loc[\"2014-01-05\"]\n",
    "\n",
    "#algum periodo\n",
    "df_cambio.loc[\"2014-01-05\":\"2014-01-07\"]\n",
    "\n",
    "#Um periodo sobre a infromação preço\n",
    "df_cambio.loc[\"2014-01-05\":\"2014-01-07\",\"Price\"]\n",
    "\n",
    "#Um dia sobre a informação preço\n",
    "df_cambio.loc[\"2014-01-05\",\"Price\"]\n",
    "\n",
    "#Um dia sobre a informação preço e moeda\n",
    "df_cambio.loc[\"2014-01-05\",\"Moeda\":\"Price\"]\n",
    "\n",
    "#todos os dados da informação\n",
    "df_cambio.loc[:,\"Price\"]\n"
   ]
  },
  {
   "cell_type": "code",
   "execution_count": 12,
   "metadata": {},
   "outputs": [
    {
     "data": {
      "text/plain": [
       "2014-01-05    5.24\n",
       "2014-01-05    4.15\n",
       "Name: Price, dtype: float64"
      ]
     },
     "execution_count": 12,
     "metadata": {},
     "output_type": "execute_result"
    }
   ],
   "source": [
    "#ferramentas loc, iloc, at, iat\n",
    "\n",
    "#at é igual ao Loc,só que serve para localizar um único item. + otimizado\n",
    "\n",
    "df_cambio.at[\"2014-01-05\", \"Price\"]#mais otimizado que o loc para pegar uma linha e uma coluna"
   ]
  },
  {
   "cell_type": "code",
   "execution_count": 13,
   "metadata": {},
   "outputs": [
    {
     "name": "stdout",
     "output_type": "stream",
     "text": [
      "5.24\n"
     ]
    },
    {
     "data": {
      "text/plain": [
       "Moeda         libra/real\n",
       "Price               3.98\n",
       "Derivativo        LIBFT3\n",
       "Name: 2014-01-08 00:00:00, dtype: object"
      ]
     },
     "execution_count": 13,
     "metadata": {},
     "output_type": "execute_result"
    }
   ],
   "source": [
    "#iloc serve para selecionar itens através de índices numéricos.\n",
    "#Parecido com as listas, mas é preciso usar iloc antes.\n",
    "\n",
    "#primeira linha\n",
    "df_cambio.iloc[0,:]\n",
    "\n",
    "#Tres primeiras linhas\n",
    "df_cambio.iloc[0:3,:]\n",
    "\n",
    "#Primeira coluna\n",
    "df_cambio.iloc[:,0]\n",
    "\n",
    "#primeiro Preço dp cambio\n",
    "df_cambio.iloc[0,1]\n",
    "\n",
    "#Primeiro preço do cambio com iat\n",
    "cambio = df_cambio.iat[0,1]\n",
    "\n",
    "print(cambio)\n",
    "\n",
    "#ultima linha\n",
    "df_cambio.iloc[-1]"
   ]
  },
  {
   "cell_type": "code",
   "execution_count": 3,
   "metadata": {},
   "outputs": [
    {
     "data": {
      "text/html": [
       "<div>\n",
       "<style scoped>\n",
       "    .dataframe tbody tr th:only-of-type {\n",
       "        vertical-align: middle;\n",
       "    }\n",
       "\n",
       "    .dataframe tbody tr th {\n",
       "        vertical-align: top;\n",
       "    }\n",
       "\n",
       "    .dataframe thead th {\n",
       "        text-align: right;\n",
       "    }\n",
       "</style>\n",
       "<table border=\"1\" class=\"dataframe\">\n",
       "  <thead>\n",
       "    <tr style=\"text-align: right;\">\n",
       "      <th></th>\n",
       "      <th>Moeda</th>\n",
       "      <th>Price</th>\n",
       "      <th>Derivativo</th>\n",
       "    </tr>\n",
       "  </thead>\n",
       "  <tbody>\n",
       "    <tr>\n",
       "      <th>2014-01-05</th>\n",
       "      <td>Zona</td>\n",
       "      <td>Zona</td>\n",
       "      <td>Zona</td>\n",
       "    </tr>\n",
       "    <tr>\n",
       "      <th>2014-01-05</th>\n",
       "      <td>libra/real</td>\n",
       "      <td>4.15</td>\n",
       "      <td>LIBFT3</td>\n",
       "    </tr>\n",
       "    <tr>\n",
       "      <th>2014-01-06</th>\n",
       "      <td>Zona</td>\n",
       "      <td>Zona</td>\n",
       "      <td>Zona</td>\n",
       "    </tr>\n",
       "    <tr>\n",
       "      <th>2014-01-06</th>\n",
       "      <td>libra/real</td>\n",
       "      <td>4.23</td>\n",
       "      <td>LIBFT3</td>\n",
       "    </tr>\n",
       "    <tr>\n",
       "      <th>2014-01-07</th>\n",
       "      <td>Zona</td>\n",
       "      <td>Zona</td>\n",
       "      <td>Zona</td>\n",
       "    </tr>\n",
       "    <tr>\n",
       "      <th>2014-01-07</th>\n",
       "      <td>libra/real</td>\n",
       "      <td>4.02</td>\n",
       "      <td>LIBFT3</td>\n",
       "    </tr>\n",
       "    <tr>\n",
       "      <th>2014-01-08</th>\n",
       "      <td>Zona</td>\n",
       "      <td>Zona</td>\n",
       "      <td>Zona</td>\n",
       "    </tr>\n",
       "    <tr>\n",
       "      <th>2014-01-08</th>\n",
       "      <td>libra/real</td>\n",
       "      <td>3.98</td>\n",
       "      <td>LIBFT3</td>\n",
       "    </tr>\n",
       "  </tbody>\n",
       "</table>\n",
       "</div>"
      ],
      "text/plain": [
       "                 Moeda Price Derivativo\n",
       "2014-01-05        Zona  Zona       Zona\n",
       "2014-01-05  libra/real  4.15     LIBFT3\n",
       "2014-01-06        Zona  Zona       Zona\n",
       "2014-01-06  libra/real  4.23     LIBFT3\n",
       "2014-01-07        Zona  Zona       Zona\n",
       "2014-01-07  libra/real  4.02     LIBFT3\n",
       "2014-01-08        Zona  Zona       Zona\n",
       "2014-01-08  libra/real  3.98     LIBFT3"
      ]
     },
     "execution_count": 3,
     "metadata": {},
     "output_type": "execute_result"
    }
   ],
   "source": [
    "#Substituir dados com loc\n",
    "\n",
    "#se um ativo mudar o código de negociação?\n",
    "df_cambio.loc[df_cambio[\"Derivativo\"]== \"DOLFT3\",\"Derivativo\"] = \"DOLFT4\"\n",
    "\n",
    "df_cambio.loc[df_cambio[\"Derivativo\"]== \"DOLFT4\"] = \"Zona\"\n",
    "\n",
    "df_cambio\n"
   ]
  },
  {
   "attachments": {},
   "cell_type": "markdown",
   "metadata": {},
   "source": [
    "# Exercícios \n",
    "\n",
    "A partir do DataFrame desenvolvido no exercício 40:\n",
    "\n",
    "* Exercício 47: Selecione a primeira linha inteira e a primeira coluna inteira com loc.\n",
    "* Exercício 48: Selecione o preço da weg com iat e com at.\n",
    "* Exercício 49: Selecione as duas primeiras linhas e todas as colunas com iloc."
   ]
  },
  {
   "cell_type": "code",
   "execution_count": 5,
   "metadata": {},
   "outputs": [
    {
     "data": {
      "text/html": [
       "<div>\n",
       "<style scoped>\n",
       "    .dataframe tbody tr th:only-of-type {\n",
       "        vertical-align: middle;\n",
       "    }\n",
       "\n",
       "    .dataframe tbody tr th {\n",
       "        vertical-align: top;\n",
       "    }\n",
       "\n",
       "    .dataframe thead th {\n",
       "        text-align: right;\n",
       "    }\n",
       "</style>\n",
       "<table border=\"1\" class=\"dataframe\">\n",
       "  <thead>\n",
       "    <tr style=\"text-align: right;\">\n",
       "      <th></th>\n",
       "      <th>Preços</th>\n",
       "      <th>Nomes</th>\n",
       "      <th>Preco sobre lucro</th>\n",
       "      <th>Volume</th>\n",
       "    </tr>\n",
       "    <tr>\n",
       "      <th>Tickers</th>\n",
       "      <th></th>\n",
       "      <th></th>\n",
       "      <th></th>\n",
       "      <th></th>\n",
       "    </tr>\n",
       "  </thead>\n",
       "  <tbody>\n",
       "    <tr>\n",
       "      <th>WEGE3</th>\n",
       "      <td>20</td>\n",
       "      <td>Weg</td>\n",
       "      <td>25</td>\n",
       "      <td>5000</td>\n",
       "    </tr>\n",
       "    <tr>\n",
       "      <th>PETR3</th>\n",
       "      <td>30</td>\n",
       "      <td>Petrobras</td>\n",
       "      <td>6</td>\n",
       "      <td>1000</td>\n",
       "    </tr>\n",
       "    <tr>\n",
       "      <th>VALE3</th>\n",
       "      <td>40</td>\n",
       "      <td>Vale</td>\n",
       "      <td>12</td>\n",
       "      <td>4000</td>\n",
       "    </tr>\n",
       "    <tr>\n",
       "      <th>PETR4</th>\n",
       "      <td>12</td>\n",
       "      <td>Petrobras</td>\n",
       "      <td>7</td>\n",
       "      <td>7000</td>\n",
       "    </tr>\n",
       "    <tr>\n",
       "      <th>LREN3</th>\n",
       "      <td>35</td>\n",
       "      <td>Lojas Renner</td>\n",
       "      <td>25</td>\n",
       "      <td>1200</td>\n",
       "    </tr>\n",
       "  </tbody>\n",
       "</table>\n",
       "</div>"
      ],
      "text/plain": [
       "         Preços         Nomes  Preco sobre lucro  Volume\n",
       "Tickers                                                 \n",
       "WEGE3        20           Weg                 25    5000\n",
       "PETR3        30     Petrobras                  6    1000\n",
       "VALE3        40          Vale                 12    4000\n",
       "PETR4        12     Petrobras                  7    7000\n",
       "LREN3        35  Lojas Renner                 25    1200"
      ]
     },
     "execution_count": 5,
     "metadata": {},
     "output_type": "execute_result"
    }
   ],
   "source": [
    "\n",
    "Carteira = {\n",
    "    \"Tickers\" : [\"WEGE3\", \"PETR3\", \"VALE3\", \"PETR4\", \"LREN3\"],\n",
    "    \"cotacoes\": [20, 30, 40, 12, 35 ],\n",
    "    \"nomes\": [\"Weg\", \"Petrobras\", \"Vale\", \"Petrobras\",\"Lojas Renner\"],\n",
    "    \"Preco sobre lucro\": [25, 6, 12, 7, 25 ],\n",
    "    \"volume\": [5000, 1000, 4000, 7000, 1200]\n",
    "}\n",
    "\n",
    "import numpy as np\n",
    "carteira_dataframe = pd.DataFrame(Carteira,index=[np.arange(5)])\n",
    "\n",
    "carteira_dataframe = carteira_dataframe.set_index(\"Tickers\")\n",
    "\n",
    "carteira_dataframe.columns =[\"Preços\",\"Nomes\", \"Preco sobre lucro\",\"Volume\"]\n",
    "\n",
    "carteira_dataframe"
   ]
  },
  {
   "cell_type": "code",
   "execution_count": 6,
   "metadata": {},
   "outputs": [
    {
     "data": {
      "text/plain": [
       "Preços                 20\n",
       "Nomes                 Weg\n",
       "Preco sobre lucro      25\n",
       "Volume               5000\n",
       "Name: WEGE3, dtype: object"
      ]
     },
     "execution_count": 6,
     "metadata": {},
     "output_type": "execute_result"
    }
   ],
   "source": [
    "#47\n",
    "\n",
    "carteira_dataframe.loc[\"WEGE3\",:]\n"
   ]
  },
  {
   "cell_type": "code",
   "execution_count": 10,
   "metadata": {},
   "outputs": [
    {
     "name": "stdout",
     "output_type": "stream",
     "text": [
      "20\n"
     ]
    },
    {
     "data": {
      "text/plain": [
       "20"
      ]
     },
     "execution_count": 10,
     "metadata": {},
     "output_type": "execute_result"
    }
   ],
   "source": [
    "#48\n",
    "\n",
    "preco_web = carteira_dataframe.iat[0,0]\n",
    "print(preco_web)\n",
    "\n",
    "carteira_dataframe.at[\"WEGE3\",\"Preços\"]"
   ]
  },
  {
   "cell_type": "code",
   "execution_count": 18,
   "metadata": {},
   "outputs": [
    {
     "data": {
      "text/html": [
       "<div>\n",
       "<style scoped>\n",
       "    .dataframe tbody tr th:only-of-type {\n",
       "        vertical-align: middle;\n",
       "    }\n",
       "\n",
       "    .dataframe tbody tr th {\n",
       "        vertical-align: top;\n",
       "    }\n",
       "\n",
       "    .dataframe thead th {\n",
       "        text-align: right;\n",
       "    }\n",
       "</style>\n",
       "<table border=\"1\" class=\"dataframe\">\n",
       "  <thead>\n",
       "    <tr style=\"text-align: right;\">\n",
       "      <th></th>\n",
       "      <th>Preços</th>\n",
       "      <th>Nomes</th>\n",
       "      <th>Preco sobre lucro</th>\n",
       "      <th>Volume</th>\n",
       "    </tr>\n",
       "    <tr>\n",
       "      <th>Tickers</th>\n",
       "      <th></th>\n",
       "      <th></th>\n",
       "      <th></th>\n",
       "      <th></th>\n",
       "    </tr>\n",
       "  </thead>\n",
       "  <tbody>\n",
       "    <tr>\n",
       "      <th>WEGE3</th>\n",
       "      <td>20</td>\n",
       "      <td>Weg</td>\n",
       "      <td>25</td>\n",
       "      <td>5000</td>\n",
       "    </tr>\n",
       "    <tr>\n",
       "      <th>PETR3</th>\n",
       "      <td>30</td>\n",
       "      <td>Petrobras</td>\n",
       "      <td>6</td>\n",
       "      <td>1000</td>\n",
       "    </tr>\n",
       "  </tbody>\n",
       "</table>\n",
       "</div>"
      ],
      "text/plain": [
       "         Preços      Nomes  Preco sobre lucro  Volume\n",
       "Tickers                                              \n",
       "WEGE3        20        Weg                 25    5000\n",
       "PETR3        30  Petrobras                  6    1000"
      ]
     },
     "execution_count": 18,
     "metadata": {},
     "output_type": "execute_result"
    }
   ],
   "source": [
    "#49\n",
    "carteira_dataframe.iloc[0:2,:]"
   ]
  },
  {
   "cell_type": "code",
   "execution_count": null,
   "metadata": {},
   "outputs": [],
   "source": []
  }
 ],
 "metadata": {
  "kernelspec": {
   "display_name": "Python 3",
   "language": "python",
   "name": "python3"
  },
  "language_info": {
   "codemirror_mode": {
    "name": "ipython",
    "version": 3
   },
   "file_extension": ".py",
   "mimetype": "text/x-python",
   "name": "python",
   "nbconvert_exporter": "python",
   "pygments_lexer": "ipython3",
   "version": "3.10.4"
  },
  "orig_nbformat": 4
 },
 "nbformat": 4,
 "nbformat_minor": 2
}
