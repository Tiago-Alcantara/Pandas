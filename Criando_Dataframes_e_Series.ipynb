{
 "cells": [
  {
   "attachments": {},
   "cell_type": "markdown",
   "metadata": {},
   "source": [
    "# Introdução ao Pandas\n",
    "## DataFrame e Series"
   ]
  },
  {
   "cell_type": "code",
   "execution_count": 4,
   "metadata": {},
   "outputs": [],
   "source": [
    "import pandas as pd\n",
    "import numpy as np"
   ]
  },
  {
   "attachments": {},
   "cell_type": "markdown",
   "metadata": {},
   "source": [
    "## Series"
   ]
  },
  {
   "cell_type": "code",
   "execution_count": 10,
   "metadata": {},
   "outputs": [
    {
     "name": "stdout",
     "output_type": "stream",
     "text": [
      "0   -1.305676\n",
      "1    1.464089\n",
      "2   -1.743248\n",
      "3    0.309272\n",
      "4   -0.505580\n",
      "dtype: float64\n"
     ]
    },
    {
     "data": {
      "text/plain": [
       "0    Python\n",
       "1       SQL\n",
       "2       VBA\n",
       "dtype: object"
      ]
     },
     "execution_count": 10,
     "metadata": {},
     "output_type": "execute_result"
    }
   ],
   "source": [
    "#ARgumento : Listas/vetores\n",
    "\n",
    "serie_inicial = pd.Series(np.random.randn(5))\n",
    "\n",
    "print(serie_inicial)\n",
    "\n",
    "serie_inicial = pd.Series(np.random.randn(5),index = [\"A\",\"B\",\"C\",\"D\",\"E\"])\n",
    "\n",
    "serie_lista = pd.Series([\"Python\",\"SQL\",\"VBA\"])\n",
    "\n",
    "serie_lista"
   ]
  },
  {
   "cell_type": "code",
   "execution_count": 17,
   "metadata": {},
   "outputs": [
    {
     "name": "stdout",
     "output_type": "stream",
     "text": [
      "WEGE3    20.20\n",
      "PETR4    19.28\n",
      "VALE3    64.90\n",
      "PETZ3    12.03\n",
      "dtype: float64\n",
      "20.2\n",
      "20.2\n"
     ]
    }
   ],
   "source": [
    "# A partir de Dicionarios,criando séries temporais\n",
    "\n",
    "dicionario_cotacoes = {\"WEGE3\":20.20,\"PETR4\":19.28,\"VALE3\":64.90,\"PETZ3\": 12.03}\n",
    "\n",
    "serie_cotacoes = pd.Series(dicionario_cotacoes)\n",
    "\n",
    "print(serie_cotacoes)\n",
    "print(serie_cotacoes[\"WEGE3\"])\n",
    "print(serie_cotacoes[0])"
   ]
  },
  {
   "attachments": {},
   "cell_type": "markdown",
   "metadata": {},
   "source": [
    "## Data Frames"
   ]
  },
  {
   "cell_type": "code",
   "execution_count": 18,
   "metadata": {},
   "outputs": [
    {
     "data": {
      "text/html": [
       "<div>\n",
       "<style scoped>\n",
       "    .dataframe tbody tr th:only-of-type {\n",
       "        vertical-align: middle;\n",
       "    }\n",
       "\n",
       "    .dataframe tbody tr th {\n",
       "        vertical-align: top;\n",
       "    }\n",
       "\n",
       "    .dataframe thead th {\n",
       "        text-align: right;\n",
       "    }\n",
       "</style>\n",
       "<table border=\"1\" class=\"dataframe\">\n",
       "  <thead>\n",
       "    <tr style=\"text-align: right;\">\n",
       "      <th></th>\n",
       "      <th>empresas</th>\n",
       "      <th>price</th>\n",
       "      <th>volume</th>\n",
       "    </tr>\n",
       "  </thead>\n",
       "  <tbody>\n",
       "    <tr>\n",
       "      <th>2019</th>\n",
       "      <td>Wege</td>\n",
       "      <td>20</td>\n",
       "      <td>1000</td>\n",
       "    </tr>\n",
       "    <tr>\n",
       "      <th>2020</th>\n",
       "      <td>Petrobras</td>\n",
       "      <td>30</td>\n",
       "      <td>4000</td>\n",
       "    </tr>\n",
       "    <tr>\n",
       "      <th>2021</th>\n",
       "      <td>Vale</td>\n",
       "      <td>40</td>\n",
       "      <td>7500</td>\n",
       "    </tr>\n",
       "  </tbody>\n",
       "</table>\n",
       "</div>"
      ],
      "text/plain": [
       "       empresas  price  volume\n",
       "2019       Wege     20    1000\n",
       "2020  Petrobras     30    4000\n",
       "2021       Vale     40    7500"
      ]
     },
     "execution_count": 18,
     "metadata": {},
     "output_type": "execute_result"
    }
   ],
   "source": [
    "# A partir de outras séries ou dicionarios\n",
    "\n",
    "dicionario_dados = {\n",
    "    \"Empresas\": pd.Series([\"Wege\",\"Petrobras\",\"Vale\"], index= [\"2019\",\"2020\",\"2021\"]),\n",
    "    \"Price\": pd.Series([20,30,40],index= [\"2019\",\"2020\",\"2021\"]),\n",
    "    \"Volume\": pd.Series([1000,4000,7500],index= [\"2019\",\"2020\",\"2021\"])\n",
    "}\n",
    "\n",
    "dados_diarios = pd.DataFrame(dicionario_dados)\n",
    "dados_diarios"
   ]
  },
  {
   "cell_type": "code",
   "execution_count": 19,
   "metadata": {},
   "outputs": [
    {
     "data": {
      "text/html": [
       "<div>\n",
       "<style scoped>\n",
       "    .dataframe tbody tr th:only-of-type {\n",
       "        vertical-align: middle;\n",
       "    }\n",
       "\n",
       "    .dataframe tbody tr th {\n",
       "        vertical-align: top;\n",
       "    }\n",
       "\n",
       "    .dataframe thead th {\n",
       "        text-align: right;\n",
       "    }\n",
       "</style>\n",
       "<table border=\"1\" class=\"dataframe\">\n",
       "  <thead>\n",
       "    <tr style=\"text-align: right;\">\n",
       "      <th></th>\n",
       "      <th>Empresas</th>\n",
       "      <th>Price</th>\n",
       "      <th>Volume</th>\n",
       "    </tr>\n",
       "  </thead>\n",
       "  <tbody>\n",
       "    <tr>\n",
       "      <th>2019</th>\n",
       "      <td>Wege</td>\n",
       "      <td>20</td>\n",
       "      <td>1000</td>\n",
       "    </tr>\n",
       "    <tr>\n",
       "      <th>2020</th>\n",
       "      <td>Petrobras</td>\n",
       "      <td>30</td>\n",
       "      <td>4000</td>\n",
       "    </tr>\n",
       "    <tr>\n",
       "      <th>2021</th>\n",
       "      <td>Vale</td>\n",
       "      <td>40</td>\n",
       "      <td>7500</td>\n",
       "    </tr>\n",
       "  </tbody>\n",
       "</table>\n",
       "</div>"
      ],
      "text/plain": [
       "       Empresas  Price  Volume\n",
       "2019       Wege     20    1000\n",
       "2020  Petrobras     30    4000\n",
       "2021       Vale     40    7500"
      ]
     },
     "execution_count": 19,
     "metadata": {},
     "output_type": "execute_result"
    }
   ],
   "source": [
    "#outra forma de fazer um dicionario um dataframe\n",
    "\n",
    "dicionario_dados2 = {\n",
    "    \"Empresas\": [\"Wege\",\"Petrobras\",\"Vale\"],\n",
    "    \"Price\": [20,30,40],\n",
    "    \"Volume\": [1000,4000,7500]\n",
    "}\n",
    "\n",
    "dados_diarios_from_dict = pd.DataFrame(dicionario_dados2,index= [\"2019\",\"2020\",\"2021\"])\n",
    "\n",
    "dados_diarios_from_dict"
   ]
  },
  {
   "cell_type": "code",
   "execution_count": 20,
   "metadata": {},
   "outputs": [
    {
     "data": {
      "text/html": [
       "<div>\n",
       "<style scoped>\n",
       "    .dataframe tbody tr th:only-of-type {\n",
       "        vertical-align: middle;\n",
       "    }\n",
       "\n",
       "    .dataframe tbody tr th {\n",
       "        vertical-align: top;\n",
       "    }\n",
       "\n",
       "    .dataframe thead th {\n",
       "        text-align: right;\n",
       "    }\n",
       "</style>\n",
       "<table border=\"1\" class=\"dataframe\">\n",
       "  <thead>\n",
       "    <tr style=\"text-align: right;\">\n",
       "      <th></th>\n",
       "      <th>Volume</th>\n",
       "      <th>Price</th>\n",
       "      <th>Empresas</th>\n",
       "    </tr>\n",
       "  </thead>\n",
       "  <tbody>\n",
       "    <tr>\n",
       "      <th>2019</th>\n",
       "      <td>1000</td>\n",
       "      <td>20</td>\n",
       "      <td>Wege</td>\n",
       "    </tr>\n",
       "    <tr>\n",
       "      <th>2020</th>\n",
       "      <td>4000</td>\n",
       "      <td>30</td>\n",
       "      <td>Petrobras</td>\n",
       "    </tr>\n",
       "    <tr>\n",
       "      <th>2021</th>\n",
       "      <td>7500</td>\n",
       "      <td>40</td>\n",
       "      <td>Vale</td>\n",
       "    </tr>\n",
       "  </tbody>\n",
       "</table>\n",
       "</div>"
      ],
      "text/plain": [
       "      Volume  Price   Empresas\n",
       "2019    1000     20       Wege\n",
       "2020    4000     30  Petrobras\n",
       "2021    7500     40       Vale"
      ]
     },
     "execution_count": 20,
     "metadata": {},
     "output_type": "execute_result"
    }
   ],
   "source": [
    "#escolhendo colunas\n",
    "\n",
    "dicionario_dados = {\n",
    "   \"Empresas\": [\"Wege\",\"Petrobras\",\"Vale\"],\n",
    "    \"Price\": [20,30,40],\n",
    "    \"Volume\": [1000,4000,7500]\n",
    "\n",
    "}\n",
    "\n",
    "dados_diarios_from_dict = pd.DataFrame(dicionario_dados2,index= [\"2019\",\"2020\",\"2021\"],\n",
    "                                        columns=[\"Volume\",\"Price\",\"Empresas\"])\n",
    "\n",
    "dados_diarios_from_dict"
   ]
  },
  {
   "cell_type": "code",
   "execution_count": 26,
   "metadata": {},
   "outputs": [
    {
     "data": {
      "text/html": [
       "<div>\n",
       "<style scoped>\n",
       "    .dataframe tbody tr th:only-of-type {\n",
       "        vertical-align: middle;\n",
       "    }\n",
       "\n",
       "    .dataframe tbody tr th {\n",
       "        vertical-align: top;\n",
       "    }\n",
       "\n",
       "    .dataframe thead th {\n",
       "        text-align: right;\n",
       "    }\n",
       "</style>\n",
       "<table border=\"1\" class=\"dataframe\">\n",
       "  <thead>\n",
       "    <tr style=\"text-align: right;\">\n",
       "      <th></th>\n",
       "      <th>cotacao</th>\n",
       "      <th>dia</th>\n",
       "    </tr>\n",
       "  </thead>\n",
       "  <tbody>\n",
       "    <tr>\n",
       "      <th>0</th>\n",
       "      <td>20</td>\n",
       "      <td>22-02-02</td>\n",
       "    </tr>\n",
       "  </tbody>\n",
       "</table>\n",
       "</div>"
      ],
      "text/plain": [
       "   cotacao       dia\n",
       "0       20  22-02-02"
      ]
     },
     "execution_count": 26,
     "metadata": {},
     "output_type": "execute_result"
    }
   ],
   "source": [
    "#cuidado quando criar dataframe e esquecer de passa o indice ex: (Para datafreme tem que passar o index)\n",
    "\n",
    "dado = {\"cotacao\":20,\"dia\":\"22-02-02\"}\n",
    "\n",
    "dataframe = pd.DataFrame(dado)\n",
    "#resoluão\n",
    "dataframe = pd.DataFrame(dado,index = [0])\n",
    " \n",
    "dataframe"
   ]
  },
  {
   "attachments": {},
   "cell_type": "markdown",
   "metadata": {},
   "source": [
    "# Exercícios\n",
    "\n",
    "* Exercício 34: Crie uma série de numeros.   \n",
    "* Exercício 35: Crie uma série de cotação randomica (random walk) para os próximos 30 dias de uma ação, partindo do preço inicial definido pelo usuário. Pressuponha que a média de retornos da ação é zero e seu desvio padrão diário (volatilidade) é de 1%.  \n",
    "* Exercício 36: Crie um DataFrame com as seguintes informações:\n",
    "       tickers: “WEGE3”, \"PETR3\", \"VALE3\", \"PETR4\" e \"LREN3\"\n",
    "       cotacoes: 20, 30, 40, 12, 35  \n",
    "       nomes: \"Weg\", \"Petrobras\", \"Vale\", \"Petrobras\" e \"Lojas Renner\"\n",
    "       preco_sobre_lucro: 25, 6, 12, 7, 25  \n",
    "       volume: 5000, 1000, 4000, 7000, 1200"
   ]
  },
  {
   "cell_type": "code",
   "execution_count": 30,
   "metadata": {},
   "outputs": [
    {
     "data": {
      "text/html": [
       "<div>\n",
       "<style scoped>\n",
       "    .dataframe tbody tr th:only-of-type {\n",
       "        vertical-align: middle;\n",
       "    }\n",
       "\n",
       "    .dataframe tbody tr th {\n",
       "        vertical-align: top;\n",
       "    }\n",
       "\n",
       "    .dataframe thead th {\n",
       "        text-align: right;\n",
       "    }\n",
       "</style>\n",
       "<table border=\"1\" class=\"dataframe\">\n",
       "  <thead>\n",
       "    <tr style=\"text-align: right;\">\n",
       "      <th></th>\n",
       "      <th>0</th>\n",
       "    </tr>\n",
       "  </thead>\n",
       "  <tbody>\n",
       "    <tr>\n",
       "      <th>0</th>\n",
       "      <td>0</td>\n",
       "    </tr>\n",
       "    <tr>\n",
       "      <th>1</th>\n",
       "      <td>1</td>\n",
       "    </tr>\n",
       "    <tr>\n",
       "      <th>2</th>\n",
       "      <td>2</td>\n",
       "    </tr>\n",
       "    <tr>\n",
       "      <th>3</th>\n",
       "      <td>3</td>\n",
       "    </tr>\n",
       "    <tr>\n",
       "      <th>4</th>\n",
       "      <td>4</td>\n",
       "    </tr>\n",
       "    <tr>\n",
       "      <th>...</th>\n",
       "      <td>...</td>\n",
       "    </tr>\n",
       "    <tr>\n",
       "      <th>95</th>\n",
       "      <td>95</td>\n",
       "    </tr>\n",
       "    <tr>\n",
       "      <th>96</th>\n",
       "      <td>96</td>\n",
       "    </tr>\n",
       "    <tr>\n",
       "      <th>97</th>\n",
       "      <td>97</td>\n",
       "    </tr>\n",
       "    <tr>\n",
       "      <th>98</th>\n",
       "      <td>98</td>\n",
       "    </tr>\n",
       "    <tr>\n",
       "      <th>99</th>\n",
       "      <td>99</td>\n",
       "    </tr>\n",
       "  </tbody>\n",
       "</table>\n",
       "<p>100 rows × 1 columns</p>\n",
       "</div>"
      ],
      "text/plain": [
       "     0\n",
       "0    0\n",
       "1    1\n",
       "2    2\n",
       "3    3\n",
       "4    4\n",
       "..  ..\n",
       "95  95\n",
       "96  96\n",
       "97  97\n",
       "98  98\n",
       "99  99\n",
       "\n",
       "[100 rows x 1 columns]"
      ]
     },
     "execution_count": 30,
     "metadata": {},
     "output_type": "execute_result"
    }
   ],
   "source": [
    "#exercicio 34\n",
    "\n",
    "Serie_de_numeros = np.arange(100)\n",
    "\n",
    "index_serie = np.arange(100)\n",
    "\n",
    "table = pd.DataFrame(Serie_de_numeros,index=[index_serie])\n",
    "\n",
    "table\n"
   ]
  },
  {
   "cell_type": "code",
   "execution_count": 58,
   "metadata": {},
   "outputs": [
    {
     "name": "stdout",
     "output_type": "stream",
     "text": [
      "                 0\n",
      "Dia 1:   20.080303\n",
      "Dia 2:   20.186658\n",
      "Dia 3:   20.051239\n",
      "Dia 4:   20.135079\n",
      "Dia 5:   20.101227\n",
      "Dia 6:   20.037696\n",
      "Dia 7:   20.169411\n",
      "Dia 8:   20.171340\n",
      "Dia 9:   20.002068\n",
      "Dia 10:  20.181261\n",
      "Dia 11:  20.099005\n",
      "Dia 12:  20.082649\n",
      "Dia 13:  20.022788\n",
      "Dia 14:  20.059704\n",
      "Dia 15:  20.069761\n",
      "Dia 16:  20.001227\n",
      "Dia 17:  20.035853\n",
      "Dia 18:  20.140422\n",
      "Dia 19:  20.185676\n",
      "Dia 20:  20.036382\n",
      "Dia 21:  20.109256\n",
      "Dia 22:  20.120628\n",
      "Dia 23:  20.087687\n",
      "Dia 24:  20.081445\n",
      "Dia 25:  20.190849\n",
      "Dia 26:  20.087888\n",
      "Dia 27:  20.004452\n",
      "Dia 28:  20.014153\n",
      "Dia 29:  20.108148\n",
      "Dia 30:  20.143888\n"
     ]
    },
    {
     "data": {
      "text/plain": [
       "<AxesSubplot: >"
      ]
     },
     "execution_count": 58,
     "metadata": {},
     "output_type": "execute_result"
    },
    {
     "data": {
      "image/png": "[encoded data removed]",
      "text/plain": [
       "<Figure size 640x480 with 1 Axes>"
      ]
     },
     "metadata": {},
     "output_type": "display_data"
    }
   ],
   "source": [
    "#35\n",
    "\n",
    "preco_inicio = float(input(\"digite o preço de inicio\"))\n",
    "dias = np.arange(30)\n",
    "cotacoes_radomicas = np.random.uniform(low = preco_inicio, high = (preco_inicio + (preco_inicio * (1/100))) , size = 30)\n",
    "\n",
    "tabela_randomicas = pd.DataFrame(cotacoes_radomicas,index = [list(map(lambda x : f\"Dia {x +1}:\",dias))])\n",
    "\n",
    "print(tabela_randomicas)\n",
    "tabela_randomicas.plot()"
   ]
  },
  {
   "cell_type": "code",
   "execution_count": null,
   "metadata": {},
   "outputs": [],
   "source": [
    "#gabarito 35\n",
    "import random\n",
    "\n",
    "cotacao_inicial = float(input(\"Qual a cotação inicial da ação? \"))\n",
    "\n",
    "periodo_projecao = 30\n",
    "lista_cotacoes = [cotacao_inicial]\n",
    "lista_dias = [0]\n",
    "volatilidade_diaria = 0.01\n",
    "\n",
    "for i in range(1, periodo_projecao):\n",
    "    \n",
    "    cotacao_seguinte = lista_cotacoes[-1] * (1 + np.random.normal(0, volatilidade_diaria))\n",
    "    \n",
    "    lista_cotacoes.append(cotacao_seguinte)\n",
    "    lista_dias.append(i)\n",
    "    \n",
    "serie_final = pd.Series(lista_cotacoes, index = lista_dias)\n",
    "\n",
    "print(serie_final)"
   ]
  },
  {
   "cell_type": "code",
   "execution_count": 51,
   "metadata": {},
   "outputs": [
    {
     "data": {
      "text/html": [
       "<div>\n",
       "<style scoped>\n",
       "    .dataframe tbody tr th:only-of-type {\n",
       "        vertical-align: middle;\n",
       "    }\n",
       "\n",
       "    .dataframe tbody tr th {\n",
       "        vertical-align: top;\n",
       "    }\n",
       "\n",
       "    .dataframe thead th {\n",
       "        text-align: right;\n",
       "    }\n",
       "</style>\n",
       "<table border=\"1\" class=\"dataframe\">\n",
       "  <thead>\n",
       "    <tr style=\"text-align: right;\">\n",
       "      <th></th>\n",
       "      <th>Tickers</th>\n",
       "      <th>cotacoes</th>\n",
       "      <th>nomes</th>\n",
       "      <th>Preco sobre lucro</th>\n",
       "      <th>volume</th>\n",
       "    </tr>\n",
       "  </thead>\n",
       "  <tbody>\n",
       "    <tr>\n",
       "      <th>0</th>\n",
       "      <td>WEGE3</td>\n",
       "      <td>20</td>\n",
       "      <td>Weg</td>\n",
       "      <td>25</td>\n",
       "      <td>5000</td>\n",
       "    </tr>\n",
       "    <tr>\n",
       "      <th>1</th>\n",
       "      <td>PETR3</td>\n",
       "      <td>30</td>\n",
       "      <td>Petrobras</td>\n",
       "      <td>6</td>\n",
       "      <td>1000</td>\n",
       "    </tr>\n",
       "    <tr>\n",
       "      <th>2</th>\n",
       "      <td>VALE3</td>\n",
       "      <td>40</td>\n",
       "      <td>Vale</td>\n",
       "      <td>12</td>\n",
       "      <td>4000</td>\n",
       "    </tr>\n",
       "    <tr>\n",
       "      <th>3</th>\n",
       "      <td>PETR4</td>\n",
       "      <td>12</td>\n",
       "      <td>Petrobras</td>\n",
       "      <td>7</td>\n",
       "      <td>7000</td>\n",
       "    </tr>\n",
       "    <tr>\n",
       "      <th>4</th>\n",
       "      <td>LREN3</td>\n",
       "      <td>35</td>\n",
       "      <td>Lojas Renner</td>\n",
       "      <td>25</td>\n",
       "      <td>1200</td>\n",
       "    </tr>\n",
       "  </tbody>\n",
       "</table>\n",
       "</div>"
      ],
      "text/plain": [
       "  Tickers  cotacoes         nomes  Preco sobre lucro  volume\n",
       "0   WEGE3        20           Weg                 25    5000\n",
       "1   PETR3        30     Petrobras                  6    1000\n",
       "2   VALE3        40          Vale                 12    4000\n",
       "3   PETR4        12     Petrobras                  7    7000\n",
       "4   LREN3        35  Lojas Renner                 25    1200"
      ]
     },
     "execution_count": 51,
     "metadata": {},
     "output_type": "execute_result"
    }
   ],
   "source": [
    "Carteira = {\n",
    "    \"Tickers\" : [\"WEGE3\", \"PETR3\", \"VALE3\", \"PETR4\", \"LREN3\"],\n",
    "    \"cotacoes\": [20, 30, 40, 12, 35 ],\n",
    "    \"nomes\": [\"Weg\", \"Petrobras\", \"Vale\", \"Petrobras\",\"Lojas Renner\"],\n",
    "    \"Preco sobre lucro\": [25, 6, 12, 7, 25 ],\n",
    "    \"volume\": [5000, 1000, 4000, 7000, 1200]\n",
    "}\n",
    "\n",
    "carteira_dataframe = pd.DataFrame(Carteira,index=[np.arange(5)])\n",
    "\n",
    "carteira_dataframe"
   ]
  }
 ],
 "metadata": {
  "kernelspec": {
   "display_name": "Python 3",
   "language": "python",
   "name": "python3"
  },
  "language_info": {
   "codemirror_mode": {
    "name": "ipython",
    "version": 3
   },
   "file_extension": ".py",
   "mimetype": "text/x-python",
   "name": "python",
   "nbconvert_exporter": "python",
   "pygments_lexer": "ipython3",
   "version": "3.10.4"
  },
  "orig_nbformat": 4,
  "vscode": {
   "interpreter": {
    "hash": "c833dfc047c4516882787f5aa527e056a926718dafde6b3a550de5aeaac3c19a"
   }
  }
 },
 "nbformat": 4,
 "nbformat_minor": 2
}
